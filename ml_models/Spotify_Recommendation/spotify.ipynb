{
 "cells": [
  {
   "cell_type": "code",
   "execution_count": 28,
   "metadata": {},
   "outputs": [],
   "source": [
    "import spotipy\n",
    "from spotipy.oauth2 import SpotifyOAuth\n",
    "\n",
    "# Replace these with your actual Spotify API credentials\n",
    "CLIENT_ID = \"07f4d94fc95d4955ad32cdf68dbefa0c\"\n",
    "CLIENT_SECRET = \"d45466167e4149b59cb91717b0ef6e3d\"\n",
    "REDIRECT_URI = \"http://localhost:8000/callback\"\n",
    "scope = \"user-read-recently-played\"\n",
    "\n",
    "sp = spotipy.Spotify(auth_manager=SpotifyOAuth(client_id=CLIENT_ID, client_secret=CLIENT_SECRET, redirect_uri=REDIRECT_URI, scope=scope))\n",
    "\n",
    "def get_last_three_listened_tracks():\n",
    "    # Get the user's listening history (last 50 tracks)\n",
    "    listening_history = sp.current_user_recently_played(limit=50)\n",
    "\n",
    "    # Extract the last three listened track URIs\n",
    "    last_three_tracks = []\n",
    "    for item in listening_history['items'][-50:]:\n",
    "        last_three_tracks.append(item['track']['name'])\n",
    "\n",
    "    return last_three_tracks"
   ]
  },
  {
   "cell_type": "code",
   "execution_count": 29,
   "metadata": {},
   "outputs": [
    {
     "data": {
      "text/plain": [
       "['Tharuka Niwa',\n",
       " 'Mulu Lowama',\n",
       " 'Carnation',\n",
       " 'Sanasennam Ma',\n",
       " 'Sanda Nena Da',\n",
       " 'Sobani (Acoustic Version)',\n",
       " 'Nura Daas',\n",
       " 'Alu Roo',\n",
       " 'Adare Hati',\n",
       " 'Sansare Suba Gaman',\n",
       " 'Mulawe - Acoustic',\n",
       " 'Sundara Landa (Acoustic Version)',\n",
       " 'Ma Prarthanawe',\n",
       " 'Sulanga Obada',\n",
       " 'The City of Romance',\n",
       " 'Niwaduwatath',\n",
       " 'Marunu Hithe (Ida Illa) - Unplugged Version',\n",
       " 'Danune Thaniyado',\n",
       " 'Dekopul Kandulin Thema',\n",
       " 'Thawa Sarayak',\n",
       " 'Hendewa',\n",
       " 'Manabandu Karanawak',\n",
       " 'Man Soyana',\n",
       " 'Ahena Durin',\n",
       " 'Es Wasa',\n",
       " 'Seema Maayim Kadaa',\n",
       " 'Nurawani Oya - Unplugged Version',\n",
       " 'Hadisida Manda',\n",
       " 'Loka Sithiyama',\n",
       " 'Senkadagala Nuwarata',\n",
       " 'Viramaye',\n",
       " 'Marambariya Meets Roopikawi',\n",
       " 'Seema (Oba Ha Ma)',\n",
       " 'Allan Yanna Bari Athak',\n",
       " 'Mal Onchilla',\n",
       " 'Mulawe',\n",
       " 'Mandaaram Kathawe',\n",
       " 'Mathaka Dinapotha - Live',\n",
       " 'Ambare',\n",
       " 'Me Hitha Na Palu',\n",
       " 'Sure Thing',\n",
       " 'Open Arms (feat. Travis Scott)',\n",
       " 'Never Felt So Alone',\n",
       " 'See You Again (feat. Kali Uchis)',\n",
       " 'Snooze',\n",
       " 'Players',\n",
       " 'Angels Like You',\n",
       " 'Escapism.',\n",
       " \"Boy's a Liar Pt. 2\",\n",
       " 'Flowers']"
      ]
     },
     "execution_count": 29,
     "metadata": {},
     "output_type": "execute_result"
    }
   ],
   "source": [
    "get_last_three_listened_tracks()"
   ]
  },
  {
   "cell_type": "code",
   "execution_count": null,
   "metadata": {},
   "outputs": [],
   "source": []
  }
 ],
 "metadata": {
  "kernelspec": {
   "display_name": "Python 3",
   "language": "python",
   "name": "python3"
  },
  "language_info": {
   "codemirror_mode": {
    "name": "ipython",
    "version": 3
   },
   "file_extension": ".py",
   "mimetype": "text/x-python",
   "name": "python",
   "nbconvert_exporter": "python",
   "pygments_lexer": "ipython3",
   "version": "3.10.11"
  },
  "orig_nbformat": 4
 },
 "nbformat": 4,
 "nbformat_minor": 2
}
