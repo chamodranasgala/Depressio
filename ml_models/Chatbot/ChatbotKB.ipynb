{
 "cells": [
  {
   "cell_type": "code",
   "execution_count": 14,
   "metadata": {},
   "outputs": [],
   "source": [
    "# ! pip3 install openai"
   ]
  },
  {
   "cell_type": "code",
   "execution_count": 15,
   "metadata": {},
   "outputs": [],
   "source": [
    "# ! pip3 install langchain==0.0.218\n"
   ]
  },
  {
   "cell_type": "code",
   "execution_count": 1,
   "metadata": {},
   "outputs": [],
   "source": [
    "from llama_index import SimpleDirectoryReader, GPTListIndex, GPTVectorStoreIndex, LLMPredictor, PromptHelper,StorageContext, load_index_from_storage\n",
    "from langchain import OpenAI\n",
    "import sys\n",
    "import os \n",
    "import config as cf\n",
    "\n",
    "os.environ['OPENAI_API_KEY'] = cf.OPENAI_API_KEY\n",
    "\n"
   ]
  },
  {
   "cell_type": "code",
   "execution_count": 3,
   "metadata": {},
   "outputs": [],
   "source": [
    "import openai\n",
    "openai.api_key = cf.OPENAI_API_KEY"
   ]
  },
  {
   "cell_type": "code",
   "execution_count": 53,
   "metadata": {},
   "outputs": [],
   "source": [
    "# import random"
   ]
  },
  {
   "cell_type": "code",
   "execution_count": 4,
   "metadata": {},
   "outputs": [],
   "source": [
    "from llama_index import ServiceContext\n",
    "\n",
    "def create_Index(path):\n",
    "    max_input = 4096\n",
    "    tokens = 256\n",
    "    chuck_size = 1000\n",
    "    max_chunk_overlap = 0.2\n",
    "\n",
    "    prompt_helper = PromptHelper(max_input, tokens, max_chunk_overlap, chunk_size_limit=chuck_size)\n",
    "\n",
    "    #define LLM \n",
    "    llmPredictor = LLMPredictor(llm=OpenAI(temperature=0.7, model_name=\"text-ada-001\",max_tokens=tokens))\n",
    "\n",
    "    #load data\n",
    "    docs = SimpleDirectoryReader(path).load_data()\n",
    "\n",
    "    #create vector index\n",
    "\n",
    "    service_context = ServiceContext.from_defaults(llm_predictor=llmPredictor,prompt_helper=prompt_helper)\n",
    "    # vectorIndex = GPTVectorStoreIndex.from_documents(docs)\n",
    "    vectorIndex = GPTVectorStoreIndex.from_documents(docs,service_context=service_context)\n",
    "    # vectorIndex = GPTVectorStoreIndex(docs)\n",
    "    # vectorIndex\n",
    "    # vectorIndex.save_to_disk(\"vactorIndex.json\")\n",
    "    vectorIndex.storage_context.persist(persist_dir = 'Store')\n",
    "    return vectorIndex"
   ]
  },
  {
   "cell_type": "code",
   "execution_count": 5,
   "metadata": {},
   "outputs": [],
   "source": [
    "# create_Index(\"/Volumes/Transcend/Development/Depresio/ml_models/Chatbot/Knowledge\")"
   ]
  },
  {
   "cell_type": "code",
   "execution_count": 6,
   "metadata": {},
   "outputs": [],
   "source": [
    "def answerMe(question):\n",
    "    # #get query\n",
    "    storage_context = StorageContext.from_defaults(persist_dir = 'Store')\n",
    "    index = load_index_from_storage(storage_context)\n",
    "    \n",
    "    # #get answer\n",
    "    # answer = vectorIndex.query(prompt, response_mode=\"compact\")\n",
    "    # #print answer\n",
    "    # print(answer)\n",
    "    query_engine = index.as_query_engine()\n",
    "    response = query_engine.query(question)\n",
    "    return response\n"
   ]
  },
  {
   "cell_type": "code",
   "execution_count": 7,
   "metadata": {},
   "outputs": [],
   "source": [
    "question = input(\"Hello how may i help you!\")\n",
    "response = answerMe(question)"
   ]
  },
  {
   "cell_type": "code",
   "execution_count": 9,
   "metadata": {},
   "outputs": [
    {
     "name": "stdout",
     "output_type": "stream",
     "text": [
      "\n",
      "It's understandable to feel sleepy when you're dealing with depression. It's important to make sure you're getting enough rest and taking care of yourself. If you're feeling overwhelmed, try to take a break and do something calming, like taking a walk or listening to music. If you're having trouble sleeping, talk to your doctor about ways to improve your sleep hygiene.\n"
     ]
    }
   ],
   "source": [
    "print(response)"
   ]
  },
  {
   "cell_type": "code",
   "execution_count": 10,
   "metadata": {},
   "outputs": [],
   "source": [
    "# from llama_index import SimpleDirectoryReader\n",
    "\n",
    "# docs = SimpleDirectoryReader(\"/Volumes/Transcend/Development/Depresio/ml_models/Chatbot/Knowledge\").load_data()"
   ]
  },
  {
   "cell_type": "code",
   "execution_count": 8,
   "metadata": {},
   "outputs": [],
   "source": [
    "# from llama_index import GPTSimpleVectorIndex\n",
    "\n",
    "# index = GPTSimpleVectorIndex(docs)"
   ]
  },
  {
   "cell_type": "code",
   "execution_count": 11,
   "metadata": {},
   "outputs": [],
   "source": [
    "# vectorIndex = createVectorIndex(\"/Volumes/Transcend/Development/Depresio/ml_models/Chatbot/Knowledge\")"
   ]
  },
  {
   "cell_type": "code",
   "execution_count": null,
   "metadata": {},
   "outputs": [],
   "source": [
    "# greet_inputs = (\"hello\", \"hi\", \"greetings\", \"sup\", \"what's up\",\"hey\",)\n",
    "# greet_responses = ('hi','Hey','Hey There!','There there!')\n",
    "# def greet(sentense):\n",
    "#     for word in sentense.split():\n",
    "#         if word.lower() in greet_inputs:\n",
    "#             return random.choice(greet_responses)"
   ]
  },
  {
   "cell_type": "code",
   "execution_count": 12,
   "metadata": {},
   "outputs": [],
   "source": [
    "# answerMe(vectorIndex)"
   ]
  },
  {
   "cell_type": "code",
   "execution_count": 13,
   "metadata": {},
   "outputs": [],
   "source": [
    "# flag = True\n",
    "# # print(\"ROBO: My name is Robo. I will answer your queries about Chatbots. If you want to exit, type Bye!\")\n",
    "# while(flag==True):\n",
    "#     user_reponse = input()\n",
    "#     user_reponse=user_reponse.lower()\n",
    "#     if(user_reponse!='bye'):\n",
    "#         if(user_reponse=='thanks' or user_reponse=='thank you'):\n",
    "#             flag=False\n",
    "#             print(\"ROBO: You are welcome..\")\n",
    "#         else:\n",
    "#             if(greet(user_reponse)!=None):\n",
    "#                 print(\"ROBO: \"+greet(user_reponse))\n",
    "#             else:\n",
    "#                 # sentence_tokens.append(user_reponse)\n",
    "#                 # word_tokens=word_tokens+nltk.word_tokenize(user_reponse)\n",
    "#                 # final_words=list(set(word_tokens))\n",
    "#                 print(\"ROBO: \",end=\"\")\n",
    "#                 prompt = input(\"Ask me anything: \")\n",
    "#                 # #get answer\n",
    "#                 # answer = vectorIndex.query(prompt, response_mode=\"compact\")\n",
    "#                 # #print answer\n",
    "#                 # print(answer)\n",
    "#                 query_engine = vectorIndex.as_query_engine()\n",
    "#                 response = query_engine.query(prompt)\n",
    "#                 print(response)\n",
    "#                 # print(respone(user_reponse))\n",
    "#                 # sentence_tokens.remove(user_reponse)\n",
    "#     else:\n",
    "#         flag=False\n",
    "#         print(\"ROBO: Bye! take care..\")"
   ]
  }
 ],
 "metadata": {
  "kernelspec": {
   "display_name": "venv",
   "language": "python",
   "name": "python3"
  },
  "language_info": {
   "codemirror_mode": {
    "name": "ipython",
    "version": 3
   },
   "file_extension": ".py",
   "mimetype": "text/x-python",
   "name": "python",
   "nbconvert_exporter": "python",
   "pygments_lexer": "ipython3",
   "version": "3.9.6"
  },
  "orig_nbformat": 4
 },
 "nbformat": 4,
 "nbformat_minor": 2
}
