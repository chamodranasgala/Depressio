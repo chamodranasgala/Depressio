{
 "cells": [
  {
   "cell_type": "code",
   "execution_count": 1,
   "metadata": {},
   "outputs": [],
   "source": [
    "import emotionScript"
   ]
  },
  {
   "cell_type": "code",
   "execution_count": 2,
   "metadata": {},
   "outputs": [],
   "source": [
    "model, tokenizer, emotionQueue = emotionScript.initialize()"
   ]
  },
  {
   "cell_type": "code",
   "execution_count": 4,
   "metadata": {},
   "outputs": [
    {
     "name": "stdout",
     "output_type": "stream",
     "text": [
      "1/1 [==============================] - 21s 21s/step\n",
      "sadness\n",
      "1/1 [==============================] - 0s 30ms/step\n",
      "deque(['sadness'], maxlen=10)\n",
      "sadness\n"
     ]
    }
   ],
   "source": [
    "print(emotionScript.getInstantEmotion([sentence], model, tokenizer))\n",
    "print(emotionScript.getEmotion([sentence], model, tokenizer, emotionQueue))"
   ]
  },
  {
   "cell_type": "code",
   "execution_count": 7,
   "metadata": {},
   "outputs": [
    {
     "name": "stdout",
     "output_type": "stream",
     "text": [
      "She sat alone in the room, tears streaming down her face.\n",
      "1/1 [==============================] - 0s 28ms/step\n",
      "fear\n",
      "1/1 [==============================] - 0s 25ms/step\n",
      "deque(['sadness', 'sadness', 'fear'], maxlen=10)\n",
      "sadness\n"
     ]
    }
   ],
   "source": [
    "print(sentence)\n",
    "print(emotionScript.getInstantEmotion([sentence], model, tokenizer))\n",
    "print(emotionScript.getEmotion([sentence], model, tokenizer, emotionQueue))"
   ]
  },
  {
   "cell_type": "code",
   "execution_count": 9,
   "metadata": {},
   "outputs": [
    {
     "name": "stdout",
     "output_type": "stream",
     "text": [
      "I can't believe I got the job; I'm on top of the world!\n",
      "1/1 [==============================] - 0s 56ms/step\n",
      "joy\n",
      "1/1 [==============================] - 0s 56ms/step\n",
      "deque(['sadness', 'sadness', 'fear', 'joy'], maxlen=10)\n",
      "sadness\n"
     ]
    }
   ],
   "source": [
    "print(sentence)\n",
    "print(emotionScript.getInstantEmotion([sentence], model, tokenizer))\n",
    "print(emotionScript.getEmotion([sentence], model, tokenizer, emotionQueue))"
   ]
  },
  {
   "cell_type": "code",
   "execution_count": 11,
   "metadata": {},
   "outputs": [
    {
     "name": "stdout",
     "output_type": "stream",
     "text": [
      "Seeing you after all these years fills me with so much happiness.\n",
      "1/1 [==============================] - 0s 49ms/step\n",
      "joy\n",
      "1/1 [==============================] - 0s 26ms/step\n",
      "deque(['sadness', 'sadness', 'fear', 'joy', 'joy'], maxlen=10)\n",
      "sadness\n"
     ]
    }
   ],
   "source": [
    "print(sentence)\n",
    "print(emotionScript.getInstantEmotion([sentence], model, tokenizer))\n",
    "print(emotionScript.getEmotion([sentence], model, tokenizer, emotionQueue))"
   ]
  },
  {
   "cell_type": "code",
   "execution_count": 13,
   "metadata": {},
   "outputs": [
    {
     "name": "stdout",
     "output_type": "stream",
     "text": [
      "His laughter was infectious, brightening up the room instantly.\n",
      "1/1 [==============================] - 0s 26ms/step\n",
      "joy\n",
      "1/1 [==============================] - 0s 56ms/step\n",
      "deque(['sadness', 'sadness', 'fear', 'joy', 'joy', 'joy'], maxlen=10)\n",
      "joy\n"
     ]
    }
   ],
   "source": [
    "print(sentence)\n",
    "print(emotionScript.getInstantEmotion([sentence], model, tokenizer))\n",
    "print(emotionScript.getEmotion([sentence], model, tokenizer, emotionQueue))"
   ]
  },
  {
   "cell_type": "code",
   "execution_count": 15,
   "metadata": {},
   "outputs": [
    {
     "name": "stdout",
     "output_type": "stream",
     "text": [
      "I can't believe you would betray me like this.\n",
      "1/1 [==============================] - 0s 31ms/step\n",
      "anger\n",
      "1/1 [==============================] - 0s 30ms/step\n",
      "deque(['sadness', 'sadness', 'fear', 'joy', 'joy', 'joy', 'anger'], maxlen=10)\n",
      "joy\n"
     ]
    }
   ],
   "source": [
    "print(sentence)\n",
    "print(emotionScript.getInstantEmotion([sentence], model, tokenizer))\n",
    "print(emotionScript.getEmotion([sentence], model, tokenizer, emotionQueue))"
   ]
  },
  {
   "cell_type": "code",
   "execution_count": 17,
   "metadata": {},
   "outputs": [
    {
     "name": "stdout",
     "output_type": "stream",
     "text": [
      "He slammed the door behind him, letting his frustration echo through the house.\n",
      "1/1 [==============================] - 0s 28ms/step\n",
      "anger\n",
      "1/1 [==============================] - 0s 33ms/step\n",
      "deque(['sadness', 'sadness', 'fear', 'joy', 'joy', 'joy', 'anger', 'anger'], maxlen=10)\n",
      "joy\n"
     ]
    }
   ],
   "source": [
    "print(sentence)\n",
    "print(emotionScript.getInstantEmotion([sentence], model, tokenizer))\n",
    "print(emotionScript.getEmotion([sentence], model, tokenizer, emotionQueue))"
   ]
  },
  {
   "cell_type": "code",
   "execution_count": 19,
   "metadata": {},
   "outputs": [
    {
     "name": "stdout",
     "output_type": "stream",
     "text": [
      "You're here? What an unexpected pleasure!\n",
      "1/1 [==============================] - 0s 64ms/step\n",
      "surprise\n",
      "1/1 [==============================] - 0s 27ms/step\n",
      "deque(['sadness', 'sadness', 'fear', 'joy', 'joy', 'joy', 'anger', 'anger', 'surprise'], maxlen=10)\n",
      "joy\n"
     ]
    }
   ],
   "source": [
    "print(sentence)\n",
    "print(emotionScript.getInstantEmotion([sentence], model, tokenizer))\n",
    "print(emotionScript.getEmotion([sentence], model, tokenizer, emotionQueue))"
   ]
  },
  {
   "cell_type": "code",
   "execution_count": 21,
   "metadata": {},
   "outputs": [
    {
     "name": "stdout",
     "output_type": "stream",
     "text": [
      "I couldn't believe my eyes when I saw the ring.\n",
      "1/1 [==============================] - 0s 27ms/step\n",
      "surprise\n",
      "1/1 [==============================] - 0s 30ms/step\n",
      "deque(['sadness', 'sadness', 'fear', 'joy', 'joy', 'joy', 'anger', 'anger', 'surprise', 'surprise'], maxlen=10)\n",
      "joy\n"
     ]
    }
   ],
   "source": [
    "print(sentence)\n",
    "print(emotionScript.getInstantEmotion([sentence], model, tokenizer))\n",
    "print(emotionScript.getEmotion([sentence], model, tokenizer, emotionQueue))"
   ]
  },
  {
   "cell_type": "code",
   "execution_count": 23,
   "metadata": {},
   "outputs": [
    {
     "name": "stdout",
     "output_type": "stream",
     "text": [
      "She gasped when she opened the gift, utterly astonished.\n",
      "1/1 [==============================] - 0s 65ms/step\n",
      "surprise\n",
      "1/1 [==============================] - 0s 32ms/step\n",
      "deque(['sadness', 'fear', 'joy', 'joy', 'joy', 'anger', 'anger', 'surprise', 'surprise', 'surprise'], maxlen=10)\n",
      "joy\n"
     ]
    }
   ],
   "source": [
    "print(sentence)\n",
    "print(emotionScript.getInstantEmotion([sentence], model, tokenizer))\n",
    "print(emotionScript.getEmotion([sentence], model, tokenizer, emotionQueue))"
   ]
  },
  {
   "cell_type": "code",
   "execution_count": 25,
   "metadata": {},
   "outputs": [
    {
     "name": "stdout",
     "output_type": "stream",
     "text": [
      "When they announced my name, I was shocked.\n",
      "1/1 [==============================] - 0s 30ms/step\n",
      "surprise\n",
      "1/1 [==============================] - 0s 29ms/step\n",
      "deque(['fear', 'joy', 'joy', 'joy', 'anger', 'anger', 'surprise', 'surprise', 'surprise', 'surprise'], maxlen=10)\n",
      "surprise\n"
     ]
    }
   ],
   "source": [
    "print(sentence)\n",
    "print(emotionScript.getInstantEmotion([sentence], model, tokenizer))\n",
    "print(emotionScript.getEmotion([sentence], model, tokenizer, emotionQueue))"
   ]
  },
  {
   "cell_type": "code",
   "execution_count": 26,
   "metadata": {},
   "outputs": [],
   "source": [
    "sentence = \"Wait, you're telling me you knew all along and didn't say anything?\""
   ]
  },
  {
   "cell_type": "code",
   "execution_count": 27,
   "metadata": {},
   "outputs": [
    {
     "name": "stdout",
     "output_type": "stream",
     "text": [
      "Wait, you're telling me you knew all along and didn't say anything?\n",
      "1/1 [==============================] - 0s 127ms/step\n",
      "surprise\n",
      "1/1 [==============================] - 0s 25ms/step\n",
      "deque(['joy', 'joy', 'joy', 'anger', 'anger', 'surprise', 'surprise', 'surprise', 'surprise', 'surprise'], maxlen=10)\n",
      "surprise\n"
     ]
    }
   ],
   "source": [
    "print(sentence)\n",
    "print(emotionScript.getInstantEmotion([sentence], model, tokenizer))\n",
    "print(emotionScript.getEmotion([sentence], model, tokenizer, emotionQueue))"
   ]
  }
 ],
 "metadata": {
  "kernelspec": {
   "display_name": "Python 3",
   "language": "python",
   "name": "python3"
  },
  "language_info": {
   "codemirror_mode": {
    "name": "ipython",
    "version": 3
   },
   "file_extension": ".py",
   "mimetype": "text/x-python",
   "name": "python",
   "nbconvert_exporter": "python",
   "pygments_lexer": "ipython3",
   "version": "3.10.11"
  },
  "orig_nbformat": 4
 },
 "nbformat": 4,
 "nbformat_minor": 2
}
